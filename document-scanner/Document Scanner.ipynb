{
 "cells": [
  {
   "cell_type": "markdown",
   "metadata": {},
   "source": [
    "## Document Scanner\n",
    "\n",
    "In this exercise, we will built a document scanner."
   ]
  },
  {
   "cell_type": "code",
   "execution_count": null,
   "metadata": {},
   "outputs": [],
   "source": [
    "# import the necessary packages\n",
    "from skimage.filters import threshold_local\n",
    "import numpy as np\n",
    "import argparse\n",
    "import cv2\n",
    "import imutils\n",
    "import matplotlib.pyplot as plt"
   ]
  },
  {
   "cell_type": "code",
   "execution_count": null,
   "metadata": {},
   "outputs": [],
   "source": [
    "# load the image and compute the ratio of the old height\n",
    "# to the new height, clone it, and resize it\n",
    "\n",
    "image = cv2.imread(\"page.jpg\")\n",
    "#print(image.shape)\n",
    "\n",
    "cv2.namedWindow('image', cv2.WINDOW_NORMAL)\n",
    "cv2.imshow(\"image\", image)\n",
    "cv2.waitKey(0)\n",
    "cv2.destroyAllWindows()\n",
    "\n",
    "ratio = image.shape[0] / 500.0\n",
    "#print(ratio)\n",
    "\n",
    "orig = image.copy()\n",
    "image = imutils.resize(image, height = 500)\n",
    "#print(image.shape)"
   ]
  },
  {
   "cell_type": "code",
   "execution_count": null,
   "metadata": {},
   "outputs": [],
   "source": [
    "# convert the image to grayscale, blur it, and find edges\n",
    "# in the image\n",
    "gray = cv2.cvtColor(image, cv2.COLOR_BGR2GRAY)\n",
    "blurred = cv2.GaussianBlur(gray, (5, 5), 0)\n",
    "edged = cv2.Canny(gray, 75, 200)\n",
    "\n",
    "# show the original image and the edge detected image\n",
    "print(\"STEP 1: Edge Detection\")"
   ]
  },
  {
   "cell_type": "code",
   "execution_count": null,
   "metadata": {},
   "outputs": [],
   "source": [
    "#cv2.namedWindow('Image', cv2.WINDOW_NORMAL)\n",
    "#cv2.namedWindow('Edged', cv2.WINDOW_NORMAL)\n",
    "#cv2.imshow(\"Image\", image)\n",
    "#cv2.imshow(\"Edged\", edged)\n",
    "#cv2.waitKey(0)\n",
    "#cv2.destroyAllWindows()"
   ]
  },
  {
   "cell_type": "code",
   "execution_count": null,
   "metadata": {},
   "outputs": [],
   "source": [
    "#plt.imshow(cv2.cvtColor(image, cv2.COLOR_BGR2RGB))\n",
    "#plt.show()\n",
    "\n",
    "#plt.imshow(gray, cmap = \"gray\")\n",
    "#plt.show()\n",
    "\n",
    "#plt.imshow(blurred, cmap = \"gray\")\n",
    "#plt.show()\n",
    "\n",
    "#plt.imshow(edged, cmap = \"gray\")\n",
    "#plt.show()"
   ]
  },
  {
   "cell_type": "code",
   "execution_count": null,
   "metadata": {},
   "outputs": [],
   "source": [
    "# find the contours in the edged image, keeping only the\n",
    "# largest ones, and initialize the screen contour\n",
    "\n",
    "#cv2.findContours(image_source, counter retrieval mode, approximation)\n",
    "cnts = cv2.findContours(edged.copy(), cv2.RETR_LIST, cv2.CHAIN_APPROX_SIMPLE)\n",
    "cnts = cnts[0] if imutils.is_cv2() else cnts[1]\n",
    "cnts = sorted(cnts, key = cv2.contourArea, reverse = True)[:5]\n",
    "\n",
    "#Additional Reference:\n",
    "#https://docs.opencv.org/3.1.0/d4/d73/tutorial_py_contours_begin.html\n",
    "\n",
    "#Try out following contour features later\n",
    "#https://docs.opencv.org/3.1.0/dd/d49/tutorial_py_contour_features.html"
   ]
  },
  {
   "cell_type": "code",
   "execution_count": null,
   "metadata": {},
   "outputs": [],
   "source": [
    "# loop over the contours\n",
    "for c in cnts:\n",
    "\t# approximate the contour\n",
    "    #cv2.arcLength(contour, is_open_contour)\n",
    "\tperi = cv2.arcLength(c, True)\n",
    "    #cv2.approxPolyDP approximates a contour shape to another shape with less number of vertices depending upon the precision we specify.\n",
    "    #Second argument in it is called epsilon, which is maximum distance from contour to approximated contour.\n",
    "\tapprox = cv2.approxPolyDP(c, 0.02 * peri, True)\n",
    "\n",
    "\t# if our approximated contour has four points, then we\n",
    "\t# can assume that we have found our screen\n",
    "\tif len(approx) == 4:\n",
    "\t\tscreenCnt = approx\n",
    "\t\tbreak\n",
    "\n",
    "# show the contour (outline) of the piece of paper\n",
    "print(\"STEP 2: Find contours of paper\")"
   ]
  },
  {
   "cell_type": "code",
   "execution_count": null,
   "metadata": {},
   "outputs": [],
   "source": [
    "#cv2.namedWindow('Outline', cv2.WINDOW_NORMAL)\n",
    "#cv2.drawContours(image, [screenCnt], -1, (0, 255, 0), 2)\n",
    "#cv2.imshow(\"Outline\", image)\n",
    "#cv2.waitKey(0)\n",
    "#cv2.destroyAllWindows()"
   ]
  },
  {
   "cell_type": "code",
   "execution_count": null,
   "metadata": {},
   "outputs": [],
   "source": [
    "from transform import four_point_transform\n",
    "\n",
    "# apply the four point transform to obtain a top-down\n",
    "# view of the original image\n",
    "warped = four_point_transform(orig, screenCnt.reshape(4, 2) * ratio)\n",
    "\n",
    "# convert the warped image to grayscale, then threshold it\n",
    "# to give it that 'black and white' paper effect\n",
    "warped = cv2.cvtColor(warped, cv2.COLOR_BGR2GRAY)\n",
    "\n",
    "'''\n",
    "Thresholding is used to create a binary image from a grayscale image. \n",
    "It is the simplest way to segment objects from a background.\n",
    "\n",
    "We binarize an image using the threshold_local function, \n",
    "which calculates thresholds in regions with a characteristic \n",
    "size block_size surrounding each pixel (i.e. local neighborhoods). \n",
    "Each threshold value is the weighted mean of the local neighborhood minus an offset value.\n",
    "'''\n",
    "T = threshold_local(warped, 11, offset = 10, method = \"gaussian\")\n",
    "warped = (warped > T).astype(\"uint8\") * 255"
   ]
  },
  {
   "cell_type": "code",
   "execution_count": null,
   "metadata": {},
   "outputs": [],
   "source": [
    "# show the original and scanned images\n",
    "print(\"STEP 3: Apply perspective transform\")\n",
    "cv2.namedWindow('Original', cv2.WINDOW_NORMAL)\n",
    "cv2.namedWindow('Scanned', cv2.WINDOW_NORMAL)\n",
    "cv2.imshow(\"Original\", imutils.resize(orig, height = 650))\n",
    "cv2.imshow(\"Scanned\", imutils.resize(warped, height = 650))\n",
    "cv2.waitKey(0)"
   ]
  }
 ],
 "metadata": {
  "kernelspec": {
   "display_name": "Python 3",
   "language": "python",
   "name": "python3"
  },
  "language_info": {
   "codemirror_mode": {
    "name": "ipython",
    "version": 3
   },
   "file_extension": ".py",
   "mimetype": "text/x-python",
   "name": "python",
   "nbconvert_exporter": "python",
   "pygments_lexer": "ipython3",
   "version": "3.6.6"
  }
 },
 "nbformat": 4,
 "nbformat_minor": 2
}
