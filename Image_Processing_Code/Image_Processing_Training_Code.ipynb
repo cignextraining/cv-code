{
 "cells": [
  {
   "cell_type": "markdown",
   "metadata": {},
   "source": [
    "### Importing python packages\n",
    "- **Matplotlib:** Python 2D plotting library, To generate plots, histograms, bar charts, scatterplots, etc.\n",
    "- **Numpy:** Scientific computing, Useful for working with N-dimensional array objects\n",
    "- **cv2:** OpenCV (Open Source Computer Vision Library) is an open source computer vision and machine learning software library which can be used to detect and recognize faces, identify objects, classify human actions in videos, track camera movements, track moving objects, extract 3D models of objects, etc."
   ]
  },
  {
   "cell_type": "code",
   "execution_count": null,
   "metadata": {
    "collapsed": true
   },
   "outputs": [],
   "source": [
    "import matplotlib.pyplot as plt\n",
    "import matplotlib.image as mpimg\n",
    "import numpy as np\n",
    "import cv2\n",
    "%matplotlib inline"
   ]
  },
  {
   "cell_type": "markdown",
   "metadata": {},
   "source": [
    "<figure>\n",
    " <img src=\"examples/snippet_1.JPG\" width=\"800\" alt=\"Code Snippet\" />\n",
    " <figcaption>\n",
    " <p></p> \n",
    " <p style=\"text-align: center;\">Write the code below to show the image and make a copy of it</p> \n",
    " </figcaption>\n",
    "</figure>"
   ]
  },
  {
   "cell_type": "code",
   "execution_count": null,
   "metadata": {},
   "outputs": [],
   "source": [
    "# Read in the image\n",
    "image = mpimg.imread('examples/color_selection.jpg')\n",
    "\n",
    "# TODO: Show the image\n",
    "## Code here\n",
    "\n",
    "# TODO: make a copy of the image\n",
    "## Code here"
   ]
  },
  {
   "cell_type": "markdown",
   "metadata": {},
   "source": [
    "***\n",
    "<p>Select the value of thresholds between **0 to 255** where 0=Black and 255=White. The goal here is to retain the white LAN lines on the road and remove the unimportant details from the image.</p>\n",
    "<br/>\n",
    "<figure>\n",
    " <img src=\"examples/snippet_2.JPG\" width=\"600\" alt=\"Code Snippet\" />\n",
    " <figcaption>\n",
    " <p></p> \n",
    " <p style=\"text-align: center;\">Write the code below to change pixel values and save the image in your current directory</p> \n",
    " </figcaption>\n",
    "</figure>"
   ]
  },
  {
   "cell_type": "code",
   "execution_count": null,
   "metadata": {},
   "outputs": [],
   "source": [
    "# Define color selection criteria\n",
    "# TODO: MODIFY THESE VARIABLES TO MAKE YOUR COLOR SELECTION\n",
    "red_threshold = 0\n",
    "green_threshold = 0\n",
    "blue_threshold = 0\n",
    "\n",
    "# Do a boolean or with the \"|\" character to identify\n",
    "# pixels below the thresholds\n",
    "color_thresholds = (image[:,:,0] < red_threshold) | (image[:,:,1] < green_threshold) | (image[:,:,2] < blue_threshold)\n",
    "\n",
    "# TODO: Change the pixel value to black color for pixel values which are below threshold\n",
    "## Code here\n",
    "\n",
    "# Display the image\n",
    "plt.imshow(color_select)\n",
    "\n",
    "# TODO: Save the image in your system\n",
    "## Code here"
   ]
  },
  {
   "cell_type": "code",
   "execution_count": null,
   "metadata": {},
   "outputs": [],
   "source": [
    "# Grab the x and y size\n",
    "ysize = image.shape[0]\n",
    "xsize = image.shape[1]\n",
    "line_image = np.copy(image)\n",
    "print(image.shape)\n",
    "\n",
    "# Define the vertices of a triangular mask.\n",
    "# Keep in mind the origin (x=0, y=0) is in the upper left\n",
    "# MODIFY THESE VALUES TO ISOLATE THE REGION \n",
    "# WHERE THE LANE LINES ARE IN THE IMAGE\n",
    "left_bottom = [0, 720]\n",
    "right_bottom = [1200, 720]\n",
    "apex = [200, 600]\n",
    "\n",
    "# Perform a linear fit (y=Ax+B) to each of the three sides of the triangle\n",
    "# np.polyfit returns the coefficients [A, B] of the fit\n",
    "fit_left = np.polyfit((left_bottom[0], apex[0]), (left_bottom[1], apex[1]), 1)\n",
    "fit_right = np.polyfit((right_bottom[0], apex[0]), (right_bottom[1], apex[1]), 1)\n",
    "fit_bottom = np.polyfit((left_bottom[0], right_bottom[0]), (left_bottom[1], right_bottom[1]), 1)\n",
    "\n",
    "# Find the region inside the lines\n",
    "XX, YY = np.meshgrid(np.arange(0, xsize), np.arange(0, ysize))\n",
    "region_thresholds = (YY > (XX*fit_left[0] + fit_left[1])) & \\\n",
    "                    (YY > (XX*fit_right[0] + fit_right[1])) & \\\n",
    "                    (YY < (XX*fit_bottom[0] + fit_bottom[1]))\n",
    "\n",
    "x = [left_bottom[0], right_bottom[0], apex[0], left_bottom[0]]\n",
    "y = [left_bottom[1], right_bottom[1], apex[1], left_bottom[1]]\n",
    "plt.plot(x, y, 'b--', lw=4)\n",
    "plt.imshow(image)"
   ]
  },
  {
   "cell_type": "markdown",
   "metadata": {},
   "source": [
    "***\n",
    "<figure>\n",
    " <img src=\"examples/snippet_3.JPG\" width=\"700\" alt=\"Code Snippet\" />\n",
    " <figcaption>\n",
    " <p></p> \n",
    " <p style=\"text-align: center;\">Write the code below to change pixels to 0 value which don't fall into region of interest</p> \n",
    " </figcaption>\n",
    "</figure>"
   ]
  },
  {
   "cell_type": "code",
   "execution_count": null,
   "metadata": {},
   "outputs": [],
   "source": [
    "# TODO: Mask color and region selection\n",
    "## Code here\n",
    "\n",
    "plt.imshow(color_select)"
   ]
  },
  {
   "cell_type": "markdown",
   "metadata": {},
   "source": [
    "***\n",
    "<figure>\n",
    " <img src=\"examples/snippet_4.JPG\" width=\"700\" alt=\"Code Snippet\" />\n",
    " <figcaption>\n",
    " <p></p> \n",
    " <p style=\"text-align: center;\">Write the code below to change pixels to Red value where region of interest and LAN Line intersect</p> \n",
    " </figcaption>\n",
    "</figure>"
   ]
  },
  {
   "cell_type": "code",
   "execution_count": null,
   "metadata": {},
   "outputs": [],
   "source": [
    "# TODO: Color pixels red where both color and region selections met\n",
    "## Code here\n",
    "\n",
    "# Display the image and show region and color selections\n",
    "plt.imshow(image)\n",
    "plt.imshow(line_image)"
   ]
  },
  {
   "cell_type": "code",
   "execution_count": null,
   "metadata": {},
   "outputs": [],
   "source": [
    "# Read in the image\n",
    "canny_input = mpimg.imread('examples/exit_ramp_input.jpg')\n",
    "\n",
    "plt.imshow(canny_input)"
   ]
  },
  {
   "cell_type": "markdown",
   "metadata": {},
   "source": [
    "***\n",
    "<figure>\n",
    " <img src=\"examples/snippet_5.JPG\" width=\"600\" alt=\"Code Snippet\" />\n",
    " <figcaption>\n",
    " <p></p> \n",
    " <p style=\"text-align: center;\">Write the code to convert the above image into grayscale</p> \n",
    " </figcaption>\n",
    "</figure>"
   ]
  },
  {
   "cell_type": "code",
   "execution_count": null,
   "metadata": {
    "collapsed": true
   },
   "outputs": [],
   "source": [
    "# TODO: Grayscale conversion\n",
    "## Code here\n",
    "\n",
    "plt.imshow(gray, cmap='gray')"
   ]
  },
  {
   "cell_type": "markdown",
   "metadata": {},
   "source": [
    "<figure>\n",
    " <img src=\"examples/snippet_6.JPG\" width=\"700\" alt=\"Code Snippet\" />\n",
    " <figcaption>\n",
    " <p></p> \n",
    " <p style=\"text-align: center;\">Write the given code to apply gaussian blurring on the image</p> \n",
    " </figcaption>\n",
    "</figure>"
   ]
  },
  {
   "cell_type": "code",
   "execution_count": null,
   "metadata": {},
   "outputs": [],
   "source": [
    "# Define a kernel size for Gaussian smoothing / blurring\n",
    "kernel_size = 5\n",
    "\n",
    "# TODO: Apply Gaussian Blur to the image\n",
    "## Code here\n",
    "\n",
    "plt.imshow(blur_gray, cmap='gray')"
   ]
  },
  {
   "cell_type": "markdown",
   "metadata": {},
   "source": [
    "***\n",
    "The edge A is above the maxVal, so considered as \"sure-edge\". Although edge C is below maxVal, it is connected to edge A, so that also considered as valid edge and we get that full curve. But edge B, although it is above minVal and is in same region as that of edge C, it is not connected to any \"sure-edge\", so that is discarded.\n",
    "<figure>\n",
    " <img src=\"examples/canny_min_max_values.JPG\" width=\"600\" alt=\"Canny Edge Detection - Min and Max value\" />\n",
    "</figure>"
   ]
  },
  {
   "cell_type": "code",
   "execution_count": null,
   "metadata": {},
   "outputs": [],
   "source": [
    "# Define parameters for Canny and run it\n",
    "\n",
    "# TODO: if you try running this code you might want to change values!\n",
    "min_value = 5\n",
    "max_value = 15\n",
    "edges = cv2.Canny(blur_gray, min_value, max_value)\n",
    "\n",
    "# Display the image\n",
    "plt.imshow(edges, cmap='Greys_r')"
   ]
  },
  {
   "cell_type": "markdown",
   "metadata": {},
   "source": [
    "***\n",
    "<figure>\n",
    " <img src=\"examples/perpective_trans.JPG\" width=\"600\" alt=\"Perspective Transformation\" />\n",
    " <figcaption>\n",
    " <p></p> \n",
    " <p style=\"text-align: center;\">Righ hand side image shows the perspective transformation of the left image</p> \n",
    " </figcaption>\n",
    "</figure>"
   ]
  },
  {
   "cell_type": "code",
   "execution_count": null,
   "metadata": {},
   "outputs": [],
   "source": [
    "img_size = (image.shape[0], image.shape[1])\n",
    "print(img_size)\n",
    "src = np.float32([[150, img_size[0]], [575, 460], [705, 460], [1100, img_size[0]]])\n",
    "dst = np.float32([[180, img_size[0]], [180, 0], [1050, 0], [1050, img_size[0]]])\n",
    "\n",
    "x = [src[0, 0], src[1, 0], src[2, 0], src[3, 0]]\n",
    "y = [src[0, 1], src[1, 1], src[2, 1], src[3, 1]]\n",
    "plt.plot(x, y, 'b--', lw=4)\n",
    "plt.imshow(image)"
   ]
  },
  {
   "cell_type": "markdown",
   "metadata": {},
   "source": [
    "<figure>\n",
    " <img src=\"examples/snippet_7.JPG\" width=\"600\" alt=\"Perspective Transformation\" />\n",
    " <figcaption>\n",
    " <p></p> \n",
    " <p style=\"text-align: center;\">Add perspective transformation method from the image in cell below</p> \n",
    " </figcaption>\n",
    "</figure>"
   ]
  },
  {
   "cell_type": "code",
   "execution_count": null,
   "metadata": {},
   "outputs": [],
   "source": [
    "# TODO: Calculate a perspective transform from four pairs of the corresponding points.\n",
    "## Code here\n",
    "\n",
    "binary_warped = cv2.warpPerspective(image, M, (image.shape[1], image.shape[0]), flags=cv2.INTER_LINEAR)\n",
    "\n",
    "f, (ax1, ax2) = plt.subplots(1, 2, figsize=(30, 10))\n",
    "\n",
    "ax1.imshow(image)\n",
    "ax1.set_title('Original Image', fontsize=15)\n",
    "\n",
    "ax2.imshow(binary_warped, cmap='gray')\n",
    "ax2.set_title('Bird Eye View of an road', fontsize=15)"
   ]
  }
 ],
 "metadata": {
  "kernelspec": {
   "display_name": "Python 3",
   "language": "python",
   "name": "python3"
  },
  "language_info": {
   "codemirror_mode": {
    "name": "ipython",
    "version": 3
   },
   "file_extension": ".py",
   "mimetype": "text/x-python",
   "name": "python",
   "nbconvert_exporter": "python",
   "pygments_lexer": "ipython3",
   "version": "3.5.2"
  },
  "widgets": {
   "state": {},
   "version": "1.1.2"
  }
 },
 "nbformat": 4,
 "nbformat_minor": 2
}
